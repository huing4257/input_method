{
 "cells": [
  {
   "cell_type": "code",
   "execution_count": 1,
   "metadata": {},
   "outputs": [],
   "source": [
    "import shelve\n",
    "import os\n",
    "import numpy as np\n",
    "from build_db import build_table\n",
    "import math\n",
    "\n",
    "if __name__ == '__main__':\n",
    "\n",
    "    if not os.path.exists('dictionary.db'):\n",
    "        build_table()  # requires Directory 输入法小作业 in root path\n",
    "\n",
    "    table_at_first = shelve.open('dictionary').get('table_at_first')\n",
    "    table_all = shelve.open('dictionary').get('table_all')\n",
    "    dictionary = shelve.open('dictionary').get('dictionary')\n",
    "\n",
    "    # assert type of dicts get from shelve to avoid warning\n",
    "    assert isinstance(dictionary, dict)\n",
    "    assert isinstance(table_at_first, dict)\n",
    "    assert isinstance(table_all, dict)\n",
    "\n",
    "    # while True:\n",
    "    #     path = input('pinyin file path')\n",
    "    #     lines = open(path, 'r', encoding='gbk').readlines()\n",
    "    line = 'ni hao'\n"
   ]
  },
  {
   "cell_type": "code",
   "execution_count": 7,
   "metadata": {},
   "outputs": [],
   "source": [
    "p_list = line.split(' ')\n",
    "choices_lists = []\n",
    "for pinyin in p_list:\n",
    "    choices_lists.append(dictionary[pinyin])"
   ]
  },
  {
   "cell_type": "code",
   "execution_count": 3,
   "metadata": {},
   "outputs": [
    {
     "name": "stderr",
     "output_type": "stream",
     "text": [
      "/var/folders/cq/tpv00k656fx9rknjksky79l40000gn/T/ipykernel_46756/1831760152.py:6: RuntimeWarning: divide by zero encountered in log\n",
      "  dp[0] = [-np.log(table_at_first.get(char, 0) / sum_at_first) for char in choices_lists[0]]\n"
     ]
    }
   ],
   "source": [
    "# viterbi algorithm\n",
    "num_step = len(choices_lists)\n",
    "num_choices = len(choices_lists[0])\n",
    "dp = np.zeros((num_step, num_choices))\n",
    "sum_at_first = sum(table_at_first.values())\n",
    "dp[0] = [-np.log(table_at_first.get(char, 0) / sum_at_first) for char in choices_lists[0]]\n"
   ]
  },
  {
   "cell_type": "code",
   "execution_count": null,
   "metadata": {},
   "outputs": [],
   "source": [
    "for i in range(1, num_step):\n",
    "    for j in range(num_choices):\n",
    "        char_pre = choices_lists[i - 1][j]\n",
    "        all_chars = table_all.get(char_pre, {})\n",
    "        sum_this_step = sum([all_chars.get(char, 0) for char in choices_lists[i]])\n",
    "        dp[i][j] = dp[i - 1] + max(\n",
    "            [-np.log(all_chars.get(char, 0) / sum_this_step) for char in choices_lists[i]])"
   ]
  },
  {
   "cell_type": "code",
   "execution_count": null,
   "metadata": {},
   "outputs": [],
   "source": [
    "ret = str()\n",
    "for i in reversed(range(num_step)):\n",
    "    for j in range(num_choices):\n",
    "        max_prob = max(dp[i])\n",
    "        if dp[i][j] == max_prob:\n",
    "            ret += choices_lists[i][j]\n",
    "            break\n",
    "print(reversed(ret))"
   ]
  }
 ],
 "metadata": {
  "kernelspec": {
   "display_name": "base",
   "language": "python",
   "name": "python3"
  },
  "language_info": {
   "codemirror_mode": {
    "name": "ipython",
    "version": 3
   },
   "file_extension": ".py",
   "mimetype": "text/x-python",
   "name": "python",
   "nbconvert_exporter": "python",
   "pygments_lexer": "ipython3",
   "version": "3.9.12"
  },
  "orig_nbformat": 4
 },
 "nbformat": 4,
 "nbformat_minor": 2
}
